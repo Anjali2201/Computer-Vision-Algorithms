{
 "cells": [
  {
   "attachments": {},
   "cell_type": "markdown",
   "metadata": {},
   "source": [
    "### Background Subtraction"
   ]
  },
  {
   "cell_type": "code",
   "execution_count": 1,
   "metadata": {},
   "outputs": [],
   "source": [
    "import numpy as np\n",
    "import cv2 as cv\n",
    "\n",
    "\n",
    "fgbg =cv.createBackgroundSubtractorMOG2()\n",
    "cap = cv.VideoCapture(0)\n",
    "while(1):\n",
    "\tret, frame = cap.read()\n",
    "\tfgmask = fgbg.apply(frame)\n",
    "\tcv.imshow('Frame', fgmask)\n",
    "\t# k = cv.waitKey(15) & 0xff\n",
    "\tif cv.waitKey(1) & 0xFF == ord('q'):\n",
    "\t\tbreak;\n",
    "\n",
    "\n",
    "cap.release();\n",
    "cv.destroyAllWindows();\n"
   ]
  },
  {
   "attachments": {},
   "cell_type": "markdown",
   "metadata": {},
   "source": [
    "### Morphological Transformation"
   ]
  },
  {
   "cell_type": "code",
   "execution_count": 2,
   "metadata": {},
   "outputs": [],
   "source": [
    "import numpy as np\n",
    "import cv2\n",
    "\n",
    "kernel = cv2.getStructuringElement(cv2.MORPH_ELLIPSE, (3, 3));\n",
    "fgbg =cv.createBackgroundSubtractorMOG2()\n",
    "\n",
    "cap = cv.VideoCapture(0)\n",
    "while(1):\n",
    "\tret, img = cap.read()\n",
    "\tfgmask = fgbg.apply(img)\n",
    "\tcv2.imshow('GMG noise', fgmask)\n",
    "\tfgmask = cv2.morphologyEx(fgmask, cv2.MORPH_OPEN, kernel)\n",
    "\tcv2.imshow('GMG', fgmask)\n",
    "\tif cv.waitKey(1) & 0xFF == ord('q'):\n",
    "\t\tbreak;\n",
    "cap.release();\n",
    "cv2.destroyAllWindows();\n"
   ]
  }
 ],
 "metadata": {
  "kernelspec": {
   "display_name": "Python 3",
   "language": "python",
   "name": "python3"
  },
  "language_info": {
   "codemirror_mode": {
    "name": "ipython",
    "version": 3
   },
   "file_extension": ".py",
   "mimetype": "text/x-python",
   "name": "python",
   "nbconvert_exporter": "python",
   "pygments_lexer": "ipython3",
   "version": "3.10.1"
  },
  "orig_nbformat": 4
 },
 "nbformat": 4,
 "nbformat_minor": 2
}
